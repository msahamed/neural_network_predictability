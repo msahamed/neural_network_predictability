{
 "cells": [
  {
   "cell_type": "code",
   "execution_count": 1,
   "metadata": {},
   "outputs": [
    {
     "name": "stderr",
     "output_type": "stream",
     "text": [
      "Using TensorFlow backend.\n"
     ]
    },
    {
     "data": {
      "text/html": [
       "<script>requirejs.config({paths: { 'plotly': ['https://cdn.plot.ly/plotly-latest.min']},});if(!window.Plotly) {{require(['plotly'],function(plotly) {window.Plotly=plotly;});}}</script>"
      ],
      "text/vnd.plotly.v1+html": [
       "<script>requirejs.config({paths: { 'plotly': ['https://cdn.plot.ly/plotly-latest.min']},});if(!window.Plotly) {{require(['plotly'],function(plotly) {window.Plotly=plotly;});}}</script>"
      ]
     },
     "metadata": {},
     "output_type": "display_data"
    }
   ],
   "source": [
    "import numpy as np\n",
    "import pandas as pd\n",
    "import os\n",
    "import warnings\n",
    "warnings.simplefilter(\"ignore\", DeprecationWarning)\n",
    "\n",
    "# Keras neural network model\n",
    "from keras.callbacks import ModelCheckpoint\n",
    "from keras.utils import to_categorical\n",
    "from keras import optimizers, regularizers, initializers\n",
    "from keras.models import Sequential, save_model, load_model\n",
    "from keras.layers import Dense, Dropout, BatchNormalization\n",
    "\n",
    "# Scikit-sklearn preprocessing modules\n",
    "from sklearn.utils import shuffle\n",
    "from sklearn.model_selection import KFold\n",
    "from sklearn.preprocessing import StandardScaler\n",
    "from sklearn.model_selection import train_test_split\n",
    "from sklearn.metrics import accuracy_score, confusion_matrix, classification_report\n",
    "\n",
    "# Matplotlib and plotly modules\n",
    "import matplotlib.pyplot as plt\n",
    "from matplotlib import ticker\n",
    "import plotly.offline as py\n",
    "import plotly.graph_objs as go\n",
    "py.init_notebook_mode(connected=True)"
   ]
  },
  {
   "cell_type": "code",
   "execution_count": 2,
   "metadata": {
    "collapsed": true
   },
   "outputs": [],
   "source": [
    "# latex parameter\n",
    "font = {\n",
    "    'family': 'serif', \n",
    "    'serif': ['Computer Modern Roman'],\n",
    "    'weight' : 'regular',\n",
    "    'size'   : 14\n",
    "    }\n",
    "\n",
    "plt.rc('font', **font)\n",
    "plt.rc('text', usetex=True)"
   ]
  },
  {
   "cell_type": "code",
   "execution_count": 5,
   "metadata": {
    "collapsed": true
   },
   "outputs": [],
   "source": [
    "df_total = pd.read_csv(\"data/total.csv\")"
   ]
  },
  {
   "cell_type": "code",
   "execution_count": 6,
   "metadata": {},
   "outputs": [
    {
     "data": {
      "text/plain": [
       "Index(['velocity:0', 'velocity:1', 'force:0', 'force:1',\n",
       "       'total displacement:0', 'total displacement:1', 'temperature',\n",
       "       'temp_power', 'temp_pressure', 'temp_density', 'plastic strain',\n",
       "       'plastic strain-rate', 'strain-rate II log10', 'strain-rate XX',\n",
       "       'elastic_strain XX', 'strain-rate ZZ', 'elastic_strain ZZ',\n",
       "       'strain-rate XZ', 'elastic_strain XZ', 'strain I', 'strain II',\n",
       "       'strain XX', 'strain ZZ', 'strain XZ', 'stress I', 'stress II',\n",
       "       'stress XX', 'stress ZZ', 'stress XZ', 'density', 'thermal_stress',\n",
       "       'energy_total_vol_dev', 'energy_volumetric', 'energy_deviatoric',\n",
       "       'energy_thermal', 'energy_elastic', 'coordinate:0', 'coordinate:1'],\n",
       "      dtype='object')"
      ]
     },
     "execution_count": 6,
     "metadata": {},
     "output_type": "execute_result"
    }
   ],
   "source": [
    "df_total.columns"
   ]
  },
  {
   "cell_type": "code",
   "execution_count": 7,
   "metadata": {},
   "outputs": [],
   "source": [
    "df_total = df_total.drop_duplicates()"
   ]
  },
  {
   "cell_type": "code",
   "execution_count": 8,
   "metadata": {
    "collapsed": true
   },
   "outputs": [],
   "source": [
    "threshold = 0.15\n",
    "df_total['plastic strain'] = np.where(df_total['plastic strain'] > threshold, 1,0)"
   ]
  },
  {
   "cell_type": "code",
   "execution_count": 9,
   "metadata": {
    "collapsed": true
   },
   "outputs": [],
   "source": [
    "def drop_and_split_coloumns(df):\n",
    "    \n",
    "    dropped_cols = ['plastic strain', 'plastic strain-rate', 'strain-rate II log10', 'strain-rate XX',\n",
    "           'elastic_strain XX', 'strain-rate ZZ', 'elastic_strain ZZ',\n",
    "           'strain-rate XZ', 'elastic_strain XZ', 'strain I', 'strain II',\n",
    "           'strain XX', 'strain ZZ', 'strain XZ', 'coordinate:0', 'coordinate:1', 'force:0', 'force:1', \n",
    "           'total displacement:0', 'total displacement:1', 'stress I', 'stress II', 'energy_volumetric', \n",
    "           'energy_deviatoric','energy_thermal', 'energy_elastic', 'thermal_stress',\n",
    "           'energy_total_vol_dev', 'temp_power', 'temp_pressure', 'temp_density']\n",
    "\n",
    "    Y = df['plastic strain']\n",
    "    df = df.drop(dropped_cols, axis=1)\n",
    "    X = df\n",
    "    X_train, X_test, y_train, y_test = train_test_split(X, Y, test_size=0.30, random_state=42)\n",
    "    \n",
    "    return X_train, X_test, y_train, y_test, df"
   ]
  },
  {
   "cell_type": "code",
   "execution_count": 10,
   "metadata": {},
   "outputs": [],
   "source": [
    "X_train_tot, X_test_tot, Y_train_tot, Y_test_tot, df_total = drop_and_split_coloumns(df_total)"
   ]
  },
  {
   "cell_type": "code",
   "execution_count": 13,
   "metadata": {
    "collapsed": true
   },
   "outputs": [],
   "source": [
    "def scale_feature(features):    \n",
    "    mms = StandardScaler()\n",
    "    scaled_features = mms.fit_transform(features)\n",
    "    return scaled_features, mms"
   ]
  },
  {
   "cell_type": "code",
   "execution_count": 14,
   "metadata": {},
   "outputs": [],
   "source": [
    "mms = [None, None]\n",
    "for i in range(len(models_name)):\n",
    "    X_train_tot, mms[0] = scale_feature(X_train_tot)\n",
    "    X_test_tot, mms[1] = scale_feature(X_test_tot)"
   ]
  },
  {
   "cell_type": "markdown",
   "metadata": {},
   "source": [
    "## Neural network model"
   ]
  },
  {
   "cell_type": "code",
   "execution_count": 329,
   "metadata": {},
   "outputs": [],
   "source": [
    "class build_neural_network:\n",
    "    \n",
    "    def __init__(self, model_name, xtrain, ytrain, xtest, ytest):\n",
    "        self.model_name = model_name\n",
    "        self.xtrain = xtrain\n",
    "        self.ytrain = to_categorical(ytrain)\n",
    "        self.xtest = xtest\n",
    "        self.ytest = to_categorical(ytest)\n",
    "        self.input_shape = np.shape(xtrain)[1]\n",
    "        self.output_shape = np.shape(self.ytrain)[1]\n",
    "        self.model = None\n",
    "        self.ypred = None\n",
    "        self.weight_path = \"./weights/\"\n",
    "            \n",
    "    def get_model_weights(self):\n",
    "        return self.model.get_weights()\n",
    "\n",
    "    def create_model(self):\n",
    "        self.model = Sequential()\n",
    "        self.model.add(Dense(self.input_shape, \n",
    "                             kernel_initializer = initializers.RandomNormal(mean=0.0, stddev=0.05, seed = 2018), \n",
    "                             activation = 'relu', name='layer_1',\n",
    "                             input_shape = (self.input_shape,)))\n",
    "        \n",
    "        self.model.add(Dense(12, activation = 'relu', name='layer_2'))\n",
    "            \n",
    "        self.model.add(Dense(self.output_shape, activation=\"softmax\", name='Output_layer'))\n",
    "        self.model.compile(optimizer = 'adam', loss = 'categorical_crossentropy', metrics=['accuracy'])\n",
    "        self.model.summary()\n",
    "    \n",
    "    def train_model(self, training_epochs):\n",
    "        self.create_model()\n",
    "        \n",
    "        filepath = self.weight_path + str(self.model_name) + '.hdf5'\n",
    "        \n",
    "        if not os.path.exists(self.weight_path):\n",
    "            os.makedirs(self.weight_path)\n",
    "        \n",
    "        checkpoint = ModelCheckpoint(filepath, verbose=0, period = training_epochs)\n",
    "        self.model.fit(self.xtrain, self.ytrain, batch_size = 10, epochs = training_epochs, \n",
    "        callbacks = [checkpoint],\n",
    "        validation_split = 0.3)\n",
    "        \n",
    "        self.save_model()\n",
    "        \n",
    "    def save_model(self):\n",
    "        file_name = str(self.weight_path) + str(self.model_name)\n",
    "        self.model.save(file_name)\n",
    "    \n",
    "    def predict(self):\n",
    "        self.ypred = self.model.predict(self.xtest)\n",
    "        \n",
    "    def classification_report(self):\n",
    "        self.predict()\n",
    "        Y_test_class = np.argmax(self.ytest, axis = 1)\n",
    "        Y_pred_class = np.argmax(self.ypred, axis = 1)\n",
    "        print('Accuracy: {}'.format(accuracy_score(Y_test_class, Y_pred_class)))\n",
    "        print('Classification report: \\n {} \\n'.format(classification_report(Y_test_class, Y_pred_class)))\n",
    "        print('Confusion matrix: {}'.format(confusion_matrix(Y_test_class, Y_pred_class)))\n",
    "    \n",
    "    def set_color_bar(self, a, fig, cbar_min, cbar_max):\n",
    "        fig.subplots_adjust(hspace=0.5)\n",
    "        tick_v = np.linspace(cbar_min, cbar_max, 20, endpoint=True)\n",
    "        fig.colorbar(a, orientation='vertical', ticks = tick_v)\n",
    "    \n",
    "    def plot_model_weights(self, figsize):    \n",
    "        model_weights = []\n",
    "        weights = self.get_model_weights()\n",
    "        \n",
    "        layer_1_weights = weights[0]\n",
    "        layer_2_weights = weights[4]    \n",
    "        \n",
    "        cbar_max = np.amax([np.amax(layer_1_weights), np.amax(layer_2_weights)])\n",
    "        cbar_min = np.amin([np.amin(layer_1_weights), np.amin(layer_2_weights)])\n",
    "        \n",
    "        # Layer-1\n",
    "        fig = plt.figure(figsize= figsize)\n",
    "        plt.subplot(1,2, 1)\n",
    "        mesh_plot = plt.pcolormesh(np.transpose(weights[0]), clim=(cbar_min, cbar_max))\n",
    "        labels = ['velocity:0', 'velocity:1', 'temperature', 'stress XX', 'stress ZZ', 'stress XZ', 'density']\n",
    "        plt.xticks([0.5+float(x) for x in range(0, len(labels))], labels, rotation='vertical')\n",
    "        plt.yticks([0.5+float(x) for x in range(0, len(labels))], list(range(1,13)))\n",
    "        plt.ylabel('Hidden Units')\n",
    "        \n",
    "        # Output layer\n",
    "        plt.subplot(1, 2, 2)\n",
    "        bb = np.reshape(weights[1], (self.input_shape, 1))\n",
    "        mesh_plot = plt.pcolormesh(bb, clim=(cbar_min, cbar_max))\n",
    "        plt.xticks([0.5],['Output Unit'],rotation='vertical')\n",
    "        plt.yticks([0.5+float(x) for x in range(0, len(labels))], list(range(1,13)))\n",
    "        self.set_color_bar(mesh_plot, fig, cbar_min, cbar_max)\n",
    "\n",
    "        plt.tight_layout()\n",
    "        plt.show()\n"
   ]
  },
  {
   "cell_type": "code",
   "execution_count": 352,
   "metadata": {},
   "outputs": [],
   "source": [
    "samples = 800000\n",
    "xtrain = xtrains[0]\n",
    "ytrain = ytrains[0]\n",
    "xtest = xtests[0]\n",
    "ytest = ytests[0]"
   ]
  },
  {
   "cell_type": "code",
   "execution_count": 353,
   "metadata": {
    "collapsed": true
   },
   "outputs": [],
   "source": [
    "deviatoric = build_neural_network(models_name[0], xtrain, ytrain, xtest, ytest)"
   ]
  },
  {
   "cell_type": "code",
   "execution_count": 354,
   "metadata": {},
   "outputs": [
    {
     "name": "stdout",
     "output_type": "stream",
     "text": [
      "_________________________________________________________________\n",
      "Layer (type)                 Output Shape              Param #   \n",
      "=================================================================\n",
      "layer_1 (Dense)              (None, 7)                 56        \n",
      "_________________________________________________________________\n",
      "layer_2 (Dense)              (None, 12)                96        \n",
      "_________________________________________________________________\n",
      "Output_layer (Dense)         (None, 2)                 26        \n",
      "=================================================================\n",
      "Total params: 178\n",
      "Trainable params: 178\n",
      "Non-trainable params: 0\n",
      "_________________________________________________________________\n",
      "Train on 1303478 samples, validate on 558634 samples\n",
      "Epoch 1/3\n",
      "1303478/1303478 [==============================] - 504s - loss: 0.0605 - acc: 0.9783 - val_loss: 0.0541 - val_acc: 0.9804\n",
      "Epoch 2/3\n",
      "1303478/1303478 [==============================] - 512s - loss: 0.0534 - acc: 0.9808 - val_loss: 0.0517 - val_acc: 0.9813\n",
      "Epoch 3/3\n",
      "1303478/1303478 [==============================] - 1528s - loss: 0.0518 - acc: 0.9810 - val_loss: 0.0509 - val_acc: 0.9814\n"
     ]
    }
   ],
   "source": [
    "deviatoric.train_model(3)"
   ]
  },
  {
   "cell_type": "code",
   "execution_count": 380,
   "metadata": {},
   "outputs": [
    {
     "name": "stdout",
     "output_type": "stream",
     "text": [
      "Accuracy: 0.9813996150607482\n",
      "Classification report: \n",
      "              precision    recall  f1-score   support\n",
      "\n",
      "          0       0.98      0.98      0.98    351678\n",
      "          1       0.98      0.98      0.98    446370\n",
      "\n",
      "avg / total       0.98      0.98      0.98    798048\n",
      " \n",
      "\n",
      "Confusion matrix: [[343900   7778]\n",
      " [  7066 439304]]\n"
     ]
    }
   ],
   "source": [
    "deviatoric.classification_report()"
   ]
  },
  {
   "cell_type": "code",
   "execution_count": 420,
   "metadata": {},
   "outputs": [
    {
     "data": {
      "image/png": "[encoded data removed]",
      "text/plain": [
       "<matplotlib.figure.Figure at 0x10e864e80>"
      ]
     },
     "metadata": {},
     "output_type": "display_data"
    }
   ],
   "source": [
    "deviatoric.plot_model_weights((8, 6))"
   ]
  },
  {
   "cell_type": "code",
   "execution_count": 398,
   "metadata": {
    "collapsed": true
   },
   "outputs": [],
   "source": [
    "ww = deviatoric.get_model_weights()"
   ]
  },
  {
   "cell_type": "code",
   "execution_count": 404,
   "metadata": {},
   "outputs": [
    {
     "data": {
      "text/plain": [
       "(12, 2)"
      ]
     },
     "execution_count": 404,
     "metadata": {},
     "output_type": "execute_result"
    }
   ],
   "source": [
    "np.shape(ww[4])"
   ]
  },
  {
   "cell_type": "code",
   "execution_count": 405,
   "metadata": {
    "collapsed": true
   },
   "outputs": [],
   "source": [
    "a = ww[0]\n",
    "b = ww[2]\n",
    "c = ww[4]"
   ]
  },
  {
   "cell_type": "code",
   "execution_count": 411,
   "metadata": {},
   "outputs": [],
   "source": [
    "result = np.dot(a, np.dot(b, c))"
   ]
  },
  {
   "cell_type": "code",
   "execution_count": 510,
   "metadata": {},
   "outputs": [
    {
     "data": {
      "image/png": "[encoded data removed]",
      "text/plain": [
       "<matplotlib.figure.Figure at 0x1286ed898>"
      ]
     },
     "metadata": {},
     "output_type": "display_data"
    }
   ],
   "source": [
    "fig = plt.figure(figsize= (14,3))\n",
    "plt.subplot(121)\n",
    "plt.pcolormesh(np.transpose(result), vmin=-4, vmax=4, cmap=\"seismic\")\n",
    "xlabels = ['velocity:0', 'velocity:1', 'temperature', 'stress XX', 'stress ZZ', 'stress XZ', 'density']\n",
    "plt.xticks([0.5+float(x) for x in range(0, len(xlabels))], xlabels, rotation='vertical')\n",
    "ylabels = ['Failure', 'No Failure']\n",
    "plt.yticks([0.65 +float(x) for x in range(0, len(ylabels))], ylabels, rotation='vertical')\n",
    "plt.colorbar(orientation='vertical')\n",
    "\n",
    "avg = np.reshape(np.amax(result, axis=1), (7,1))\n",
    "plt.subplot(122)\n",
    "plt.pcolormesh(np.transpose(avg), vmin=-4, vmax=4, cmap=\"seismic\")\n",
    "plt.xticks([0.5+float(x) for x in range(0, len(xlabels))], xlabels, rotation='vertical')\n",
    "plt.yticks([])\n",
    "plt.colorbar(orientation='vertical')\n",
    "plt.show()"
   ]
  },
  {
   "cell_type": "code",
   "execution_count": 483,
   "metadata": {
    "collapsed": true
   },
   "outputs": [],
   "source": [
    "interp = np.dot(a,b)"
   ]
  },
  {
   "cell_type": "code",
   "execution_count": 513,
   "metadata": {
    "scrolled": false
   },
   "outputs": [
    {
     "data": {
      "image/png": "[encoded data removed]",
      "text/plain": [
       "<matplotlib.figure.Figure at 0x1133aaac8>"
      ]
     },
     "metadata": {},
     "output_type": "display_data"
    }
   ],
   "source": [
    "fig = plt.figure(figsize= (8,5))\n",
    "plt.subplot(121)\n",
    "plt.pcolormesh(np.transpose(interp), vmin=-4, vmax=4, cmap=\"seismic\")\n",
    "xlabels = ['velocity:0', 'velocity:1', 'temperature', 'stress XX', 'stress ZZ', 'stress XZ', 'density']\n",
    "plt.xticks([0.5+float(x) for x in range(0, len(xlabels))], xlabels, rotation='vertical')\n",
    "plt.yticks([0.5+float(x) for x in range(0, 12)], list(range(1,13)))\n",
    "plt.colorbar(orientation='vertical')\n",
    "\n",
    "plt.subplot(122)\n",
    "avg = np.reshape(np.amax(c, axis=1), (12,1))\n",
    "plt.pcolormesh(c, vmin=-4, vmax=4, cmap=\"seismic\")\n",
    "plt.xticks([0.5],['Output Unit'],rotation='vertical')\n",
    "plt.yticks([0.5+float(x) for x in range(0, 12)], list(range(1,13)))\n",
    "plt.colorbar(orientation='vertical')\n",
    "plt.show()"
   ]
  },
  {
   "cell_type": "code",
   "execution_count": null,
   "metadata": {
    "collapsed": true
   },
   "outputs": [],
   "source": []
  }
 ],
 "metadata": {
  "kernelspec": {
   "display_name": "Python 3",
   "language": "python",
   "name": "python3"
  },
  "language_info": {
   "codemirror_mode": {
    "name": "ipython",
    "version": 3
   },
   "file_extension": ".py",
   "mimetype": "text/x-python",
   "name": "python",
   "nbconvert_exporter": "python",
   "pygments_lexer": "ipython3",
   "version": "3.6.3"
  }
 },
 "nbformat": 4,
 "nbformat_minor": 2
}
